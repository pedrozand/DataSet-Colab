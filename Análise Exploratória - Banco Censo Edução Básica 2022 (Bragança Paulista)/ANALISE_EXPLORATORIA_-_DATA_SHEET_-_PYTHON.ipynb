{
  "nbformat": 4,
  "nbformat_minor": 0,
  "metadata": {
    "colab": {
      "provenance": []
    },
    "kernelspec": {
      "name": "python3",
      "display_name": "Python 3"
    },
    "language_info": {
      "name": "python"
    }
  },
  "cells": [
    {
      "cell_type": "markdown",
      "source": [
        "# **Inteligencia Artificial**\n",
        "Professor: Everson\n",
        "\n",
        "Curso: Análise e Desenvolvimento de Sistemas\n",
        "\n",
        "Semestre: 6° Semestre - Noturno\n",
        "\n",
        "Nome: Pedro Henrique de Oliveira\n",
        "______________"
      ],
      "metadata": {
        "id": "SAJlywf_gye2"
      }
    },
    {
      "cell_type": "markdown",
      "source": [
        "# **Tarefa - Análise do DataSet - Censo Educação Básica 2022**\n",
        "______\n",
        "\n",
        "1. Extraia do DataSet somente os dados referentes a Bragança Paulista. (OK)\n",
        "2. Importe para o Collab (OK)\n",
        "3. Faça uma Analise Exploratória Inicial e complete os dados faltantes seguindo algum critério. obs.: consulte o dicionário de dados antes de iniciar.\n",
        "4. Verifique se existe algum valor discrepante. Qual(is)? Como corrigir?\n",
        "5. Remova os campos (atributos desnecessários). Justifique.\n",
        "6. Verifique se todas os campos estão preenchidos corretamente e faça os ajustes necessários.\n",
        "7. Encontre Insights no conjunto de dados  - (7 a 10) - (https://www.rampfy.com/blog/diferenca-entre-dados-analises-e-insights\n",
        "\n",
        "Obs.: para plotar gráficos:\n",
        "              ## gráfico de barras vertical\n",
        "       dados['campo'].value_counts().plot.bar()\n",
        "\n",
        "\n",
        "Entregar: O novo DataSet  e o notebook.\n",
        "______\n"
      ],
      "metadata": {
        "id": "2r3s-IfiDoSc"
      }
    },
    {
      "cell_type": "markdown",
      "source": [
        "**Importanto as Bibliotecas**"
      ],
      "metadata": {
        "id": "lzvNdIW-crfx"
      }
    },
    {
      "cell_type": "code",
      "source": [
        "import pandas as pd\n",
        "import numpy as np\n",
        "import matplotlib.pyplot as plt"
      ],
      "metadata": {
        "id": "MHkzfX1bcv4K"
      },
      "execution_count": null,
      "outputs": []
    },
    {
      "cell_type": "markdown",
      "source": [
        "**Carregando os Dados**"
      ],
      "metadata": {
        "id": "LTcvYCAdc-0M"
      }
    },
    {
      "cell_type": "code",
      "execution_count": null,
      "metadata": {
        "id": "A_rPOrNsbPk5"
      },
      "outputs": [],
      "source": [
        "bd = pd.read_excel('BD_ED_BASICA.xlsx')"
      ]
    },
    {
      "cell_type": "markdown",
      "source": [
        "_______"
      ],
      "metadata": {
        "id": "S1BdMaQoqQGY"
      }
    },
    {
      "cell_type": "markdown",
      "source": [
        "### 3. Faça uma Analise Exploratória Inicial e complete os dados faltantes seguindo algum critério. obs.: consulte o dicionário de dados antes de iniciar."
      ],
      "metadata": {
        "id": "43P5_36VqfyJ"
      }
    },
    {
      "cell_type": "code",
      "source": [
        "bd['TP_SITUACAO_FUNCIONAMENTO'] = bd['TP_SITUACAO_FUNCIONAMENTO'].replace(1, \"ATIVA\")\n",
        "bd['TP_SITUACAO_FUNCIONAMENTO'] = bd['TP_SITUACAO_FUNCIONAMENTO'].replace(2, \"INATIVA\")\n",
        "\n",
        "bd[['NO_ENTIDADE', 'TP_SITUACAO_FUNCIONAMENTO']]\n"
      ],
      "metadata": {
        "id": "HjZQwmK_qlSp"
      },
      "execution_count": null,
      "outputs": []
    },
    {
      "cell_type": "code",
      "source": [
        "bd['TP_DEPENDENCIA'] = bd['TP_DEPENDENCIA'].replace(1, \"FEDERAL\")\n",
        "bd['TP_DEPENDENCIA'] = bd['TP_DEPENDENCIA'].replace(2, \"ESTADUAL\")\n",
        "bd['TP_DEPENDENCIA'] = bd['TP_DEPENDENCIA'].replace(3, \"MUNICIPAL\")\n",
        "bd['TP_DEPENDENCIA'] = bd['TP_DEPENDENCIA'].replace(4, \"PRIVADA\")\n",
        "\n",
        "bd[['NO_ENTIDADE', 'TP_DEPENDENCIA']]"
      ],
      "metadata": {
        "id": "nyYcX6bWxa2o"
      },
      "execution_count": null,
      "outputs": []
    },
    {
      "cell_type": "code",
      "source": [
        "bd['TP_LOCALIZACAO'] = bd['TP_LOCALIZACAO'].replace(1, \"URBANA\")\n",
        "bd['TP_LOCALIZACAO'] = bd['TP_LOCALIZACAO'].replace(2, \"RURAL\")\n",
        "\n",
        "bd[['NO_ENTIDADE', 'TP_LOCALIZACAO']]"
      ],
      "metadata": {
        "id": "JsY4wG6et38c"
      },
      "execution_count": null,
      "outputs": []
    },
    {
      "cell_type": "code",
      "source": [
        "bd[['NO_ENTIDADE', 'TP_LOCALIZACAO', 'TP_DEPENDENCIA', 'TP_SITUACAO_FUNCIONAMENTO']]"
      ],
      "metadata": {
        "id": "XJrhda2oyNKG"
      },
      "execution_count": null,
      "outputs": []
    },
    {
      "cell_type": "markdown",
      "source": [
        "### 4. Verifique se existe algum valor discrepante. Qual(is)? Como corrigir?\n",
        "Ajuste realizado no formato da data e hora"
      ],
      "metadata": {
        "id": "R2AVfJGSybUo"
      }
    },
    {
      "cell_type": "code",
      "source": [
        "import pandas as pd\n",
        "from datetime import datetime\n",
        "\n",
        "dataArray = bd['DT_ANO_LETIVO_INICIO']\n",
        "\n",
        "df = pd.DataFrame({\"DataOriginal\": dataArray})\n",
        "\n",
        "def formatar_data(data_original):\n",
        "    if isinstance(data_original, str) and data_original:\n",
        "        data_formatada = datetime.strptime(data_original, \"%d%b%Y:%H:%M:%S\")\n",
        "        return data_formatada.strftime('%Y-%m-%d %H:%M:%S')\n",
        "    else:\n",
        "        return data_original\n",
        "\n",
        "df[\"DataOriginal\"] = df[\"DataOriginal\"].apply(formatar_data)\n",
        "\n",
        "bd[\"DT_ANO_LETIVO_INICIO\"] = df[\"DataOriginal\"]\n",
        "\n",
        "print(df)"
      ],
      "metadata": {
        "id": "Kev06PPZ67Nj"
      },
      "execution_count": null,
      "outputs": []
    },
    {
      "cell_type": "code",
      "source": [
        "bd[['NO_ENTIDADE', 'DT_ANO_LETIVO_INICIO']]"
      ],
      "metadata": {
        "id": "n_wZyYnaFMJe"
      },
      "execution_count": null,
      "outputs": []
    },
    {
      "cell_type": "markdown",
      "source": [
        "### 5. Remova os campos (atributos desnecessários). Justifique.\n",
        "Os campos removidos foram os respectivamente, Nome da Região por já ser apresentado por sua sigla, seu código devido o constesto atual ser irrelevante, o código do municipio removido também pelo mesmo motivo, o código da UF por já estar sendo representado pela silga SP e o nome da UF por também já estar sendo representada pala sigla SP."
      ],
      "metadata": {
        "id": "lAxRUzoXDXjh"
      }
    },
    {
      "cell_type": "code",
      "source": [
        "del bd['NO_REGIAO']\n",
        "del bd['CO_REGIAO']\n",
        "del bd['CO_MUNICIPIO']\n",
        "del bd['CO_UF']\n",
        "del bd['NO_UF']"
      ],
      "metadata": {
        "id": "J6OBEM9kFwL6"
      },
      "execution_count": null,
      "outputs": []
    },
    {
      "cell_type": "code",
      "source": [
        "bd.head()"
      ],
      "metadata": {
        "id": "YXHHrkwiDdvP"
      },
      "execution_count": null,
      "outputs": []
    },
    {
      "cell_type": "markdown",
      "source": [
        "### 6. Verifique se todas os campos estão preenchidos corretamente e faça os ajustes necessários."
      ],
      "metadata": {
        "id": "pstk7BR6JzVx"
      }
    },
    {
      "cell_type": "code",
      "source": [
        "bd['TP_SITUACAO_FUNCIONAMENTO'] = bd['TP_SITUACAO_FUNCIONAMENTO'].replace(1, \"EM ATIVIDADE\")\n",
        "bd['TP_SITUACAO_FUNCIONAMENTO'] = bd['TP_SITUACAO_FUNCIONAMENTO'].replace(2, \"PARALISADA\")\n",
        "bd['TP_SITUACAO_FUNCIONAMENTO'] = bd['TP_SITUACAO_FUNCIONAMENTO'].replace(3, \"EXTINTA NO ANO DO CENSO\")\n",
        "bd['TP_SITUACAO_FUNCIONAMENTO'] = bd['TP_SITUACAO_FUNCIONAMENTO'].replace(4, \"EXTITAS EM ANOS ANTERIORES\")\n",
        "\n",
        "bd[['NO_ENTIDADE', 'TP_SITUACAO_FUNCIONAMENTO']]"
      ],
      "metadata": {
        "id": "Vlyn9PUBJ3wL"
      },
      "execution_count": null,
      "outputs": []
    },
    {
      "cell_type": "code",
      "source": [
        "bd['IN_VINCULO_SECRETARIA_EDUCACAO'] = bd['IN_VINCULO_SECRETARIA_EDUCACAO'].replace(1, \"NÃO\")\n",
        "bd['IN_VINCULO_SECRETARIA_EDUCACAO'] = bd['IN_VINCULO_SECRETARIA_EDUCACAO'].replace(2, \"SIM\")\n",
        "bd['IN_VINCULO_SECRETARIA_EDUCACAO'] = bd['IN_VINCULO_SECRETARIA_EDUCACAO'].replace(3, \"NÃO APLICADA PARA ESCOLAS PRIVADAS\")\n",
        "\n",
        "bd[['NO_ENTIDADE', 'IN_VINCULO_SECRETARIA_EDUCACAO']]"
      ],
      "metadata": {
        "id": "Dv4xGd86LPpR"
      },
      "execution_count": null,
      "outputs": []
    },
    {
      "cell_type": "markdown",
      "source": [
        "### 7. Encontre Insights no conjunto de dados - (7 a 10) - (https://www.rampfy.com/blog/diferenca-entre-dados-analises-e-insights"
      ],
      "metadata": {
        "id": "OmYJG66JLy7e"
      }
    },
    {
      "cell_type": "code",
      "source": [
        "# Numero de escolas em funcionamento\n",
        "\n",
        "bd['TP_SITUACAO_FUNCIONAMENTO'].value_counts().plot(kind='bar')\n",
        "\n",
        "plt.title('Situação de Funcionamento')\n",
        "plt.xlabel('Funcionamento')\n",
        "plt.ylabel('Quantidade de Escolas')\n",
        "\n",
        "plt.xticks([0, 1], ['Sim', 'Não'])\n",
        "\n",
        "plt.show()"
      ],
      "metadata": {
        "id": "WLXOMEBYL1Pm"
      },
      "execution_count": null,
      "outputs": []
    },
    {
      "cell_type": "code",
      "source": [
        "# Quantidades de escolas de acordo com sua dependencia\n",
        "\n",
        "bd['TP_DEPENDENCIA'].value_counts().plot(kind='bar')\n",
        "\n",
        "plt.title('Dependencias')\n",
        "plt.xlabel('Tipo de Dependencias')\n",
        "plt.ylabel('Quantidade de Escolas')\n",
        "\n",
        "plt.xticks([0,1,2,3], [\"Federal\", \"Estadual\", \"Municipal\", \"Privada\"])\n",
        "\n",
        "plt.show()"
      ],
      "metadata": {
        "id": "WdzEoBRcMVgx"
      },
      "execution_count": null,
      "outputs": []
    },
    {
      "cell_type": "code",
      "source": [
        "# Quantidade de Escolas de acordo com a localização.\n",
        "\n",
        "bd['TP_LOCALIZACAO'].value_counts().plot(kind='bar')\n",
        "\n",
        "plt.title('Localização')\n",
        "plt.xlabel('Tipo de Localização')\n",
        "plt.ylabel('Quantidade de Escolas')\n",
        "\n",
        "plt.xticks([0, 1], [\"Urbana\", \"Rural\"])\n",
        "\n",
        "plt.show()"
      ],
      "metadata": {
        "id": "GFe3h6mzWoaz"
      },
      "execution_count": null,
      "outputs": []
    },
    {
      "cell_type": "code",
      "source": [
        "# Porcentagem por situação de funcionamento\n",
        "plt.figure(figsize=(6, 6))\n",
        "\n",
        "contagem = bd['TP_SITUACAO_FUNCIONAMENTO'].value_counts()\n",
        "\n",
        "plt.pie(contagem, labels=contagem.index, autopct='%1.1f%%')\n",
        "plt.title('Funcionamento por Porcentagem (1) Em atividade (2) Paralisada')\n",
        "\n",
        "plt.show()"
      ],
      "metadata": {
        "id": "fppk2QECWwzZ"
      },
      "execution_count": null,
      "outputs": []
    },
    {
      "cell_type": "code",
      "source": [
        "# Localidade escolares\n",
        "\n",
        "bd['TP_LOCALIZACAO'].value_counts().plot(kind='bar')\n",
        "\n",
        "plt.title('Escola e suas respectivas Localidades')\n",
        "plt.xlabel('')\n",
        "plt.ylabel('Quantidade de Escolas')\n",
        "\n",
        "plt.xticks([0, 1], [\"Urbana\", \"Rural\"])\n",
        "\n",
        "plt.xticks(rotation=0)\n",
        "\n",
        "plt.show()"
      ],
      "metadata": {
        "id": "--WJCMAUW6ie"
      },
      "execution_count": null,
      "outputs": []
    },
    {
      "cell_type": "code",
      "source": [
        "# Anlise escolas e secretária\n",
        "\n",
        "bd['IN_VINCULO_SECRETARIA_EDUCACAO'].value_counts().plot(kind='bar')\n",
        "\n",
        "plt.title('Associação Escolas x Secretaria')\n",
        "plt.xlabel('')\n",
        "plt.ylabel('Quantidade de Escolas')\n",
        "\n",
        "plt.xticks([0, 1], [\"Possui\", \"Não Possui\"])\n",
        "\n",
        "plt.xticks(rotation=0)\n",
        "\n",
        "plt.show()"
      ],
      "metadata": {
        "id": "AeVoFCQnY74t"
      },
      "execution_count": null,
      "outputs": []
    },
    {
      "cell_type": "code",
      "source": [
        "# Porcentagem por região\n",
        "\n",
        "plt.figure(figsize=(6, 6))\n",
        "\n",
        "contagem = bd['TP_LOCALIZACAO'].value_counts()\n",
        "\n",
        "plt.pie(contagem, labels=contagem.index, autopct='%1.1f%%')\n",
        "plt.title('Porcentagem em região (1) Urbana (2) Rural')\n",
        "\n",
        "plt.show()"
      ],
      "metadata": {
        "id": "dhfmAtaaZFvI"
      },
      "execution_count": null,
      "outputs": []
    }
  ]
}